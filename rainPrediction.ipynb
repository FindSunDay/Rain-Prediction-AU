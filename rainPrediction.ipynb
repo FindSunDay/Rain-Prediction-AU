{
 "cells": [
  {
   "cell_type": "markdown",
   "metadata": {},
   "source": [
    "# A. Creating Spark Session and Loading the Data"
   ]
  },
  {
   "cell_type": "markdown",
   "metadata": {},
   "source": [
    "## Step 01:  Import Spark Session and initialize Spark"
   ]
  },
  {
   "cell_type": "code",
   "execution_count": 1,
   "metadata": {},
   "outputs": [],
   "source": [
    "# create entry points to spark\n",
    "from pyspark import SparkContext # Spark\n",
    "from pyspark.sql import SparkSession # Spark SQL\n",
    "\n",
    "\n",
    "# local[4]: run Spark locally with 4 working processors as logical cores on your machine.\n",
    "# In the field of `master`, we use a local server with as many working processors (or threads) as possible (i.e. `local[*]`). \n",
    "# If we want Spark to run locally with 'k' worker threads, we can specify as `local[k]`.\n",
    "# The `appName` field is a name to be shown on the Sparking cluster UI. \n",
    "\n",
    "# If there is no existing spark context, we now create a new context\n",
    "sc = SparkContext(master=\"local[4]\", appName=\"Predict rain tomorrow in Australia\")\n",
    "spark = SparkSession(sparkContext=sc)"
   ]
  },
  {
   "cell_type": "markdown",
   "metadata": {},
   "source": [
    "## Step 02:  Load the dataset and print the schema and total number of entries"
   ]
  },
  {
   "cell_type": "code",
   "execution_count": 2,
   "metadata": {
    "scrolled": true
   },
   "outputs": [
    {
     "data": {
      "text/plain": [
       "142193"
      ]
     },
     "execution_count": 2,
     "metadata": {},
     "output_type": "execute_result"
    }
   ],
   "source": [
    "#spark.read.csv() is used to load data as CSV format\n",
    "rain_df = spark.read.csv('weatherAUS.csv', header=True, inferSchema=True)\n",
    "\n",
    "#count() is used to count the total number of entries in the dataset\n",
    "rain_df.count()"
   ]
  },
  {
   "cell_type": "markdown",
   "metadata": {},
   "source": [
    "# B. Data Cleaning and Processing"
   ]
  },
  {
   "cell_type": "markdown",
   "metadata": {},
   "source": [
    "## Step 03: Delete columns from the dataset"
   ]
  },
  {
   "cell_type": "code",
   "execution_count": 3,
   "metadata": {
    "scrolled": true
   },
   "outputs": [
    {
     "name": "stdout",
     "output_type": "stream",
     "text": [
      "+-------+-------+--------+-----------+-------------+----------+----------+------------+------------+-----------+-----------+-----------+-----------+---------+------------+\n",
      "|MinTemp|MaxTemp|Rainfall|WindGustDir|WindGustSpeed|WindDir9am|WindDir3pm|WindSpeed9am|WindSpeed3pm|Humidity9am|Humidity3pm|Pressure9am|Pressure3pm|RainToday|RainTomorrow|\n",
      "+-------+-------+--------+-----------+-------------+----------+----------+------------+------------+-----------+-----------+-----------+-----------+---------+------------+\n",
      "|   13.4|   22.9|     0.6|          W|           44|         W|       WNW|          20|          24|         71|         22|     1007.7|     1007.1|       No|          No|\n",
      "|    7.4|   25.1|       0|        WNW|           44|       NNW|       WSW|           4|          22|         44|         25|     1010.6|     1007.8|       No|          No|\n",
      "|   12.9|   25.7|       0|        WSW|           46|         W|       WSW|          19|          26|         38|         30|     1007.6|     1008.7|       No|          No|\n",
      "|    9.2|     28|       0|         NE|           24|        SE|         E|          11|           9|         45|         16|     1017.6|     1012.8|       No|          No|\n",
      "|   17.5|   32.3|       1|          W|           41|       ENE|        NW|           7|          20|         82|         33|     1010.8|       1006|       No|          No|\n",
      "|   14.6|   29.7|     0.2|        WNW|           56|         W|         W|          19|          24|         55|         23|     1009.2|     1005.4|       No|          No|\n",
      "|   14.3|     25|       0|          W|           50|        SW|         W|          20|          24|         49|         19|     1009.6|     1008.2|       No|          No|\n",
      "|    7.7|   26.7|       0|          W|           35|       SSE|         W|           6|          17|         48|         19|     1013.4|     1010.1|       No|          No|\n",
      "|    9.7|   31.9|       0|        NNW|           80|        SE|        NW|           7|          28|         42|          9|     1008.9|     1003.6|       No|         Yes|\n",
      "|   13.1|   30.1|     1.4|          W|           28|         S|       SSE|          15|          11|         58|         27|       1007|     1005.7|      Yes|          No|\n",
      "|   13.4|   30.4|       0|          N|           30|       SSE|       ESE|          17|           6|         48|         22|     1011.8|     1008.7|       No|         Yes|\n",
      "|   15.9|   21.7|     2.2|        NNE|           31|        NE|       ENE|          15|          13|         89|         91|     1010.5|     1004.2|      Yes|         Yes|\n",
      "|   15.9|   18.6|    15.6|          W|           61|       NNW|       NNW|          28|          28|         76|         93|      994.3|        993|      Yes|         Yes|\n",
      "|   12.6|     21|     3.6|         SW|           44|         W|       SSW|          24|          20|         65|         43|     1001.2|     1001.8|      Yes|          No|\n",
      "|    9.8|   27.7|      NA|        WNW|           50|        NA|       WNW|          NA|          22|         50|         28|     1013.4|     1010.3|       NA|          No|\n",
      "|   14.1|   20.9|       0|        ENE|           22|       SSW|         E|          11|           9|         69|         82|     1012.2|     1010.4|       No|         Yes|\n",
      "|   13.5|   22.9|    16.8|          W|           63|         N|       WNW|           6|          20|         80|         65|     1005.8|     1002.2|      Yes|         Yes|\n",
      "|   11.2|   22.5|    10.6|        SSE|           43|       WSW|        SW|          24|          17|         47|         32|     1009.4|     1009.7|      Yes|          No|\n",
      "|    9.8|   25.6|       0|        SSE|           26|        SE|       NNW|          17|           6|         45|         26|     1019.2|     1017.1|       No|          No|\n",
      "|   11.5|   29.3|       0|          S|           24|        SE|        SE|           9|           9|         56|         28|     1019.3|     1014.8|       No|          No|\n",
      "+-------+-------+--------+-----------+-------------+----------+----------+------------+------------+-----------+-----------+-----------+-----------+---------+------------+\n",
      "only showing top 20 rows\n",
      "\n"
     ]
    }
   ],
   "source": [
    "#create a list to store the columns that need to be deleted\n",
    "columns_to_drop = ['Date', 'Location', 'Evaporation', 'Sunshine', 'Cloud9am', 'Cloud3pm', 'Temp9am', 'Temp3pm']\n",
    "\n",
    "#use drop() to delete the columns that need to be deleted\n",
    "rain_df = rain_df.drop(*columns_to_drop)\n",
    "rain_df.show()"
   ]
  },
  {
   "cell_type": "markdown",
   "metadata": {},
   "source": [
    "## Step 04: Print the number of missing data in each column."
   ]
  },
  {
   "cell_type": "code",
   "execution_count": 4,
   "metadata": {
    "scrolled": true
   },
   "outputs": [
    {
     "name": "stdout",
     "output_type": "stream",
     "text": [
      "MinTemp 637\n",
      "MaxTemp 322\n",
      "Rainfall 1406\n",
      "WindGustDir 9330\n",
      "WindGustSpeed 9270\n",
      "WindDir9am 10013\n",
      "WindDir3pm 3778\n",
      "WindSpeed9am 1348\n",
      "WindSpeed3pm 2630\n",
      "Humidity9am 1774\n",
      "Humidity3pm 3610\n",
      "Pressure9am 14014\n",
      "Pressure3pm 13981\n",
      "RainToday 1406\n",
      "RainTomorrow 0\n"
     ]
    }
   ],
   "source": [
    "# use for loop to iterate the columns of dataframe\n",
    "# use filter to select the rows contain NA values\n",
    "# use count to print the number of  NA values in each column\n",
    "for col in rain_df.columns:\n",
    "    na_values = rain_df.filter(rain_df[col] == 'NA')\n",
    "    print(col, na_values.count())"
   ]
  },
  {
   "cell_type": "markdown",
   "metadata": {},
   "source": [
    "## Step 05: Fill the missing data with average value and maximum occurrencevalue"
   ]
  },
  {
   "cell_type": "code",
   "execution_count": 5,
   "metadata": {
    "scrolled": false
   },
   "outputs": [
    {
     "name": "stdout",
     "output_type": "stream",
     "text": [
      "+-------+-------+--------+-----------+-------------+----------+----------+------------+------------+-----------+-----------+-----------+-----------+---------+------------+\n",
      "|MinTemp|MaxTemp|Rainfall|WindGustDir|WindGustSpeed|WindDir9am|WindDir3pm|WindSpeed9am|WindSpeed3pm|Humidity9am|Humidity3pm|Pressure9am|Pressure3pm|RainToday|RainTomorrow|\n",
      "+-------+-------+--------+-----------+-------------+----------+----------+------------+------------+-----------+-----------+-----------+-----------+---------+------------+\n",
      "|   13.4|   22.9|     0.6|          W|           44|         W|       WNW|          20|          24|         71|         22|     1007.7|     1007.1|       No|          No|\n",
      "|    7.4|   25.1|       0|        WNW|           44|       NNW|       WSW|           4|          22|         44|         25|     1010.6|     1007.8|       No|          No|\n",
      "|   12.9|   25.7|       0|        WSW|           46|         W|       WSW|          19|          26|         38|         30|     1007.6|     1008.7|       No|          No|\n",
      "|    9.2|     28|       0|         NE|           24|        SE|         E|          11|           9|         45|         16|     1017.6|     1012.8|       No|          No|\n",
      "|   17.5|   32.3|       1|          W|           41|       ENE|        NW|           7|          20|         82|         33|     1010.8|       1006|       No|          No|\n",
      "+-------+-------+--------+-----------+-------------+----------+----------+------------+------------+-----------+-----------+-----------+-----------+---------+------------+\n",
      "only showing top 5 rows\n",
      "\n"
     ]
    }
   ],
   "source": [
    "rain_df.show(5)\n",
    "\n",
    "# Since the first line of the data does not contain NAs, it can be used to identify numerical and \n",
    "# non-numerical columns"
   ]
  },
  {
   "cell_type": "code",
   "execution_count": 6,
   "metadata": {},
   "outputs": [],
   "source": [
    "from pyspark.sql import functions\n",
    "from pyspark.sql.functions import avg\n",
    "\n",
    "\n",
    "#In order to identify numerica and non-numerica columns, we need to \n",
    "#firstly transfer the data in each column to int and check whether\n",
    "#the isNotNull() function returns True(just check the first row to \n",
    "#reduce cost by using data[0][0]), if True that means the column is \n",
    "#numerica, if False that means the column is non-numerica.\n",
    "\n",
    "for col in rain_df.columns:    \n",
    "    data = rain_df.select(functions.col(col).cast('int').isNotNull()).collect()\n",
    "    \n",
    "    #For numerica columns, use avg() to calculate the average value and\n",
    "    #use na.replace() to replace NAs\n",
    "    if data[0][0]:\n",
    "        average = rain_df.select(avg(col)).head()[0]\n",
    "        rain_df = rain_df.na.replace('NA', str(average), col)\n",
    "    \n",
    "    #For non-numerica columns, use map(),reduceByKey and sortBy()\n",
    "    #to calculate the occurance of each words in descending, then\n",
    "    #use toDF() to transfer to DataFrame\n",
    "    else:\n",
    "        frequents = rain_df.select(col).rdd.map(lambda x: (x,1)) \\\n",
    "                    .reduceByKey(lambda x,y: x+y) \\\n",
    "                    .sortBy(lambda x: x[1], ascending = False) \\\n",
    "                    .toDF()\n",
    "        \n",
    "        #select the head and since the first item in the list is a list,\n",
    "        #to get the word, use head()[0][0]\n",
    "        frequent = frequents.select('_1').head()[0][0]\n",
    "        rain_df = rain_df.na.replace('NA', frequent, col)\n",
    "                    \n"
   ]
  },
  {
   "cell_type": "code",
   "execution_count": 7,
   "metadata": {
    "scrolled": true
   },
   "outputs": [
    {
     "name": "stdout",
     "output_type": "stream",
     "text": [
      "+-------+-------+------------------+-----------+-------------+----------+----------+---------------+------------+-----------+-----------+-----------+-----------+---------+------------+\n",
      "|MinTemp|MaxTemp|          Rainfall|WindGustDir|WindGustSpeed|WindDir9am|WindDir3pm|   WindSpeed9am|WindSpeed3pm|Humidity9am|Humidity3pm|Pressure9am|Pressure3pm|RainToday|RainTomorrow|\n",
      "+-------+-------+------------------+-----------+-------------+----------+----------+---------------+------------+-----------+-----------+-----------+-----------+---------+------------+\n",
      "|   13.4|   22.9|               0.6|          W|           44|         W|       WNW|             20|          24|         71|         22|     1007.7|     1007.1|       No|          No|\n",
      "|    7.4|   25.1|                 0|        WNW|           44|       NNW|       WSW|              4|          22|         44|         25|     1010.6|     1007.8|       No|          No|\n",
      "|   12.9|   25.7|                 0|        WSW|           46|         W|       WSW|             19|          26|         38|         30|     1007.6|     1008.7|       No|          No|\n",
      "|    9.2|     28|                 0|         NE|           24|        SE|         E|             11|           9|         45|         16|     1017.6|     1012.8|       No|          No|\n",
      "|   17.5|   32.3|                 1|          W|           41|       ENE|        NW|              7|          20|         82|         33|     1010.8|       1006|       No|          No|\n",
      "|   14.6|   29.7|               0.2|        WNW|           56|         W|         W|             19|          24|         55|         23|     1009.2|     1005.4|       No|          No|\n",
      "|   14.3|     25|                 0|          W|           50|        SW|         W|             20|          24|         49|         19|     1009.6|     1008.2|       No|          No|\n",
      "|    7.7|   26.7|                 0|          W|           35|       SSE|         W|              6|          17|         48|         19|     1013.4|     1010.1|       No|          No|\n",
      "|    9.7|   31.9|                 0|        NNW|           80|        SE|        NW|              7|          28|         42|          9|     1008.9|     1003.6|       No|         Yes|\n",
      "|   13.1|   30.1|               1.4|          W|           28|         S|       SSE|             15|          11|         58|         27|       1007|     1005.7|      Yes|          No|\n",
      "|   13.4|   30.4|                 0|          N|           30|       SSE|       ESE|             17|           6|         48|         22|     1011.8|     1008.7|       No|         Yes|\n",
      "|   15.9|   21.7|               2.2|        NNE|           31|        NE|       ENE|             15|          13|         89|         91|     1010.5|     1004.2|      Yes|         Yes|\n",
      "|   15.9|   18.6|              15.6|          W|           61|       NNW|       NNW|             28|          28|         76|         93|      994.3|        993|      Yes|         Yes|\n",
      "|   12.6|     21|               3.6|         SW|           44|         W|       SSW|             24|          20|         65|         43|     1001.2|     1001.8|      Yes|          No|\n",
      "|    9.8|   27.7|2.3499740743107442|        WNW|           50|         N|       WNW|14.001988000994|          22|         50|         28|     1013.4|     1010.3|       No|          No|\n",
      "|   14.1|   20.9|                 0|        ENE|           22|       SSW|         E|             11|           9|         69|         82|     1012.2|     1010.4|       No|         Yes|\n",
      "|   13.5|   22.9|              16.8|          W|           63|         N|       WNW|              6|          20|         80|         65|     1005.8|     1002.2|      Yes|         Yes|\n",
      "|   11.2|   22.5|              10.6|        SSE|           43|       WSW|        SW|             24|          17|         47|         32|     1009.4|     1009.7|      Yes|          No|\n",
      "|    9.8|   25.6|                 0|        SSE|           26|        SE|       NNW|             17|           6|         45|         26|     1019.2|     1017.1|       No|          No|\n",
      "|   11.5|   29.3|                 0|          S|           24|        SE|        SE|              9|           9|         56|         28|     1019.3|     1014.8|       No|          No|\n",
      "+-------+-------+------------------+-----------+-------------+----------+----------+---------------+------------+-----------+-----------+-----------+-----------+---------+------------+\n",
      "only showing top 20 rows\n",
      "\n"
     ]
    }
   ],
   "source": [
    "rain_df.show()\n",
    "#Now all the NAs are replaced"
   ]
  },
  {
   "cell_type": "markdown",
   "metadata": {},
   "source": [
    "## Step 06: Data transformation"
   ]
  },
  {
   "cell_type": "code",
   "execution_count": 8,
   "metadata": {
    "scrolled": true
   },
   "outputs": [
    {
     "name": "stdout",
     "output_type": "stream",
     "text": [
      "+-------+-------+------------------+-------------+---------------+------------+-----------+-----------+-----------+-----------+---------------+--------------+--------------+-------------+----------------+\n",
      "|MinTemp|MaxTemp|          Rainfall|WindGustSpeed|   WindSpeed9am|WindSpeed3pm|Humidity9am|Humidity3pm|Pressure9am|Pressure3pm|WindGustDir_num|WindDir9am_num|WindDir3pm_num|RainToday_num|RainTomorrow_num|\n",
      "+-------+-------+------------------+-------------+---------------+------------+-----------+-----------+-----------+-----------+---------------+--------------+--------------+-------------+----------------+\n",
      "|   13.4|   22.9|               0.6|         44.0|           20.0|        24.0|       71.0|       22.0|     1007.7|     1007.1|            0.0|           6.0|           7.0|          0.0|             0.0|\n",
      "|    7.4|   25.1|               0.0|         44.0|            4.0|        22.0|       44.0|       25.0|     1010.6|     1007.8|            9.0|           9.0|           3.0|          0.0|             0.0|\n",
      "|   12.9|   25.7|               0.0|         46.0|           19.0|        26.0|       38.0|       30.0|     1007.6|     1008.7|            6.0|           6.0|           3.0|          0.0|             0.0|\n",
      "|    9.2|   28.0|               0.0|         24.0|           11.0|         9.0|       45.0|       16.0|     1017.6|     1012.8|           13.0|           1.0|          10.0|          0.0|             0.0|\n",
      "|   17.5|   32.3|               1.0|         41.0|            7.0|        20.0|       82.0|       33.0|     1010.8|     1006.0|            0.0|          10.0|           8.0|          0.0|             0.0|\n",
      "|   14.6|   29.7|               0.2|         56.0|           19.0|        24.0|       55.0|       23.0|     1009.2|     1005.4|            9.0|           6.0|           1.0|          0.0|             0.0|\n",
      "|   14.3|   25.0|               0.0|         50.0|           20.0|        24.0|       49.0|       19.0|     1009.6|     1008.2|            0.0|           7.0|           1.0|          0.0|             0.0|\n",
      "|    7.7|   26.7|               0.0|         35.0|            6.0|        17.0|       48.0|       19.0|     1013.4|     1010.1|            0.0|           3.0|           1.0|          0.0|             0.0|\n",
      "|    9.7|   31.9|               0.0|         80.0|            7.0|        28.0|       42.0|        9.0|     1008.9|     1003.6|           14.0|           1.0|           8.0|          0.0|             1.0|\n",
      "|   13.1|   30.1|               1.4|         28.0|           15.0|        11.0|       58.0|       27.0|     1007.0|     1005.7|            0.0|           5.0|           5.0|          1.0|             0.0|\n",
      "|   13.4|   30.4|               0.0|         30.0|           17.0|         6.0|       48.0|       22.0|     1011.8|     1008.7|            3.0|           3.0|           9.0|          0.0|             1.0|\n",
      "|   15.9|   21.7|               2.2|         31.0|           15.0|        13.0|       89.0|       91.0|     1010.5|     1004.2|           15.0|          12.0|          14.0|          1.0|             1.0|\n",
      "|   15.9|   18.6|              15.6|         61.0|           28.0|        28.0|       76.0|       93.0|      994.3|      993.0|            0.0|           9.0|          13.0|          1.0|             1.0|\n",
      "|   12.6|   21.0|               3.6|         44.0|           24.0|        20.0|       65.0|       43.0|     1001.2|     1001.8|            7.0|           6.0|          12.0|          1.0|             0.0|\n",
      "|    9.8|   27.7|2.3499740743107442|         50.0|14.001988000994|        22.0|       50.0|       28.0|     1013.4|     1010.3|            9.0|           0.0|           7.0|          0.0|             0.0|\n",
      "|   14.1|   20.9|               0.0|         22.0|           11.0|         9.0|       69.0|       82.0|     1012.2|     1010.4|           11.0|          13.0|          10.0|          0.0|             1.0|\n",
      "|   13.5|   22.9|              16.8|         63.0|            6.0|        20.0|       80.0|       65.0|     1005.8|     1002.2|            0.0|           0.0|           7.0|          1.0|             1.0|\n",
      "|   11.2|   22.5|              10.6|         43.0|           24.0|        17.0|       47.0|       32.0|     1009.4|     1009.7|            4.0|          15.0|           4.0|          1.0|             0.0|\n",
      "|    9.8|   25.6|               0.0|         26.0|           17.0|         6.0|       45.0|       26.0|     1019.2|     1017.1|            4.0|           1.0|          13.0|          0.0|             0.0|\n",
      "|   11.5|   29.3|               0.0|         24.0|            9.0|         9.0|       56.0|       28.0|     1019.3|     1014.8|            5.0|           1.0|           0.0|          0.0|             0.0|\n",
      "+-------+-------+------------------+-------------+---------------+------------+-----------+-----------+-----------+-----------+---------------+--------------+--------------+-------------+----------------+\n",
      "only showing top 20 rows\n",
      "\n"
     ]
    }
   ],
   "source": [
    "from pyspark.ml.feature import StringIndexer\n",
    "\n",
    "\n",
    "for col in rain_df.columns:    \n",
    "    data = rain_df.select(functions.col(col).cast('double').isNotNull()).collect()\n",
    "    \n",
    "    #numerica\n",
    "    if data[0][0]:\n",
    "        #use withColumn to alternate original column with double version\n",
    "        rain_df = rain_df.withColumn(col, functions.col(col).cast('double'))\n",
    "        \n",
    "    \n",
    "    #non-numerica\n",
    "    #use StringIndexer to fit non-numerica columns to numbers\n",
    "    else:\n",
    "        col_num = col+'_num'\n",
    "        num_StringIndexer = StringIndexer(inputCol = col, outputCol = col_num)       \n",
    "        model = num_StringIndexer.fit(rain_df)       \n",
    "        rain_df = model.transform(rain_df)        \n",
    "        #drop the original non-numerica data\n",
    "        rain_df = rain_df.drop(col)\n",
    "        \n",
    "rain_df.show()"
   ]
  },
  {
   "cell_type": "markdown",
   "metadata": {},
   "source": [
    "## Step 07: Create the feature vector and divide the dataset"
   ]
  },
  {
   "cell_type": "code",
   "execution_count": 9,
   "metadata": {},
   "outputs": [
    {
     "name": "stdout",
     "output_type": "stream",
     "text": [
      "+-------+-------+--------+-------------+------------+------------+-----------+-----------+-----------+-----------+---------------+--------------+--------------+-------------+----------------+--------------------+\n",
      "|MinTemp|MaxTemp|Rainfall|WindGustSpeed|WindSpeed9am|WindSpeed3pm|Humidity9am|Humidity3pm|Pressure9am|Pressure3pm|WindGustDir_num|WindDir9am_num|WindDir3pm_num|RainToday_num|RainTomorrow_num|            features|\n",
      "+-------+-------+--------+-------------+------------+------------+-----------+-----------+-----------+-----------+---------------+--------------+--------------+-------------+----------------+--------------------+\n",
      "|   13.4|   22.9|     0.6|         44.0|        20.0|        24.0|       71.0|       22.0|     1007.7|     1007.1|            0.0|           6.0|           7.0|          0.0|             0.0|[13.4,22.9,0.6,44...|\n",
      "|    7.4|   25.1|     0.0|         44.0|         4.0|        22.0|       44.0|       25.0|     1010.6|     1007.8|            9.0|           9.0|           3.0|          0.0|             0.0|[7.4,25.1,0.0,44....|\n",
      "|   12.9|   25.7|     0.0|         46.0|        19.0|        26.0|       38.0|       30.0|     1007.6|     1008.7|            6.0|           6.0|           3.0|          0.0|             0.0|[12.9,25.7,0.0,46...|\n",
      "+-------+-------+--------+-------------+------------+------------+-----------+-----------+-----------+-----------+---------------+--------------+--------------+-------------+----------------+--------------------+\n",
      "only showing top 3 rows\n",
      "\n",
      "+----------------+--------------------+\n",
      "|RainTomorrow_num|            features|\n",
      "+----------------+--------------------+\n",
      "|             0.0|[13.4,22.9,0.6,44...|\n",
      "|             0.0|[7.4,25.1,0.0,44....|\n",
      "|             0.0|[12.9,25.7,0.0,46...|\n",
      "+----------------+--------------------+\n",
      "only showing top 3 rows\n",
      "\n"
     ]
    }
   ],
   "source": [
    "from pyspark.ml.linalg import Vectors\n",
    "from pyspark.ml.feature import VectorAssembler\n",
    "\n",
    "#exclude 'RainTomorrow_num' as column to test accuracy\n",
    "inputCols = ['MinTemp', 'MaxTemp', 'Rainfall', 'WindGustSpeed', 'WindSpeed9am', 'WindSpeed3pm', 'Humidity9am', 'Humidity3pm', \\\n",
    "            'Pressure9am', 'Pressure3pm', 'WindGustDir_num', 'WindDir9am_num', 'WindDir3pm_num', 'RainToday_num']\n",
    "#create feature vector\n",
    "vector_assembler = VectorAssembler(\\\n",
    "inputCols=inputCols,\\\n",
    "outputCol='features')\n",
    "\n",
    "df_temp = vector_assembler.transform(rain_df)\n",
    "df_temp.show(3)\n",
    "\n",
    "#remain just RainTpmorrow_num and features columns\n",
    "rain_df = df_temp.select('RainTomorrow_num','features')\n",
    "rain_df.show(3)\n",
    "\n",
    "\n",
    "(trainingData, testData) = rain_df.randomSplit([0.7, 0.3], seed = 1996)"
   ]
  },
  {
   "cell_type": "markdown",
   "metadata": {},
   "source": [
    "# C. Apply Machine Learning Algorithms"
   ]
  },
  {
   "cell_type": "markdown",
   "metadata": {},
   "source": [
    "## Step 08: Apply machine learning classification algorithms on the dataset and compare their accuracy. Plot the accuracy as bar graph"
   ]
  },
  {
   "cell_type": "markdown",
   "metadata": {},
   "source": [
    "### 1. Run and calculate the accuracy of decision tree algorithm using DecisionTreeClassifier()"
   ]
  },
  {
   "cell_type": "code",
   "execution_count": 10,
   "metadata": {
    "scrolled": true
   },
   "outputs": [
    {
     "name": "stdout",
     "output_type": "stream",
     "text": [
      "+----------+----------------+\n",
      "|prediction|RainTomorrow_num|\n",
      "+----------+----------------+\n",
      "|       0.0|             0.0|\n",
      "|       0.0|             0.0|\n",
      "|       0.0|             0.0|\n",
      "|       0.0|             0.0|\n",
      "|       0.0|             0.0|\n",
      "|       1.0|             0.0|\n",
      "|       0.0|             0.0|\n",
      "|       0.0|             0.0|\n",
      "|       0.0|             0.0|\n",
      "|       0.0|             0.0|\n",
      "+----------+----------------+\n",
      "only showing top 10 rows\n",
      "\n",
      "Accuracy =  0.8350025740628071\n",
      "Test Error = 0.164997 \n"
     ]
    }
   ],
   "source": [
    "from pyspark.ml.classification import DecisionTreeClassifier\n",
    "from pyspark.ml.evaluation import MulticlassClassificationEvaluator\n",
    "\n",
    "dt = DecisionTreeClassifier(labelCol=\"RainTomorrow_num\", featuresCol=\"features\")\n",
    "model = dt.fit(trainingData)\n",
    "\n",
    "prediction_dt = model.transform(testData)\n",
    "\n",
    "prediction_dt.select(\"prediction\", \"RainTomorrow_num\").show(10)\n",
    "\n",
    "evaluator = MulticlassClassificationEvaluator(\\\n",
    "\n",
    "labelCol=\"RainTomorrow_num\", predictionCol=\"prediction\",\\\n",
    "\n",
    "metricName=\"accuracy\")\n",
    "\n",
    "accuracy1 = evaluator.evaluate(prediction_dt)\n",
    "\n",
    "print(\"Accuracy = \", accuracy1)\n",
    "print(\"Test Error = %g \" % (1.0 - accuracy1))"
   ]
  },
  {
   "cell_type": "markdown",
   "metadata": {},
   "source": [
    "### 2. Run and calculate the accuracy of random forest algorithm using RandomForestClassifier()"
   ]
  },
  {
   "cell_type": "code",
   "execution_count": 11,
   "metadata": {},
   "outputs": [
    {
     "name": "stdout",
     "output_type": "stream",
     "text": [
      "+----------+----------------+\n",
      "|prediction|RainTomorrow_num|\n",
      "+----------+----------------+\n",
      "|       0.0|             0.0|\n",
      "|       0.0|             0.0|\n",
      "|       0.0|             0.0|\n",
      "|       0.0|             0.0|\n",
      "|       0.0|             0.0|\n",
      "|       1.0|             0.0|\n",
      "|       0.0|             0.0|\n",
      "|       0.0|             0.0|\n",
      "|       0.0|             0.0|\n",
      "|       0.0|             0.0|\n",
      "+----------+----------------+\n",
      "only showing top 10 rows\n",
      "\n",
      "Accuracy =  0.8324051106847007\n",
      "Test Error = 0.167595\n"
     ]
    }
   ],
   "source": [
    "from pyspark.ml.classification import RandomForestClassifier\n",
    "\n",
    "rf = RandomForestClassifier(labelCol=\"RainTomorrow_num\",\\\n",
    "featuresCol=\"features\", numTrees=10)\n",
    "\n",
    "model = rf.fit(trainingData)\n",
    "\n",
    "prediction_rf = model.transform(testData)\n",
    "\n",
    "prediction_rf.select(\"prediction\", \"RainTomorrow_num\").show(10)\n",
    "\n",
    "evaluator =\\\n",
    "MulticlassClassificationEvaluator(labelCol=\"RainTomorrow_num\",\\\n",
    "predictionCol=\"prediction\", metricName=\"accuracy\")\n",
    "\n",
    "accuracy2 = evaluator.evaluate(prediction_rf)\n",
    "\n",
    "print(\"Accuracy = \", accuracy2)\n",
    "print(\"Test Error = %g\" % (1.0 - accuracy2))"
   ]
  },
  {
   "cell_type": "markdown",
   "metadata": {},
   "source": [
    "### 3. Run and calculate the accuracy using LogisticRegression()"
   ]
  },
  {
   "cell_type": "code",
   "execution_count": 12,
   "metadata": {},
   "outputs": [
    {
     "name": "stdout",
     "output_type": "stream",
     "text": [
      "+----------+----------------+\n",
      "|prediction|RainTomorrow_num|\n",
      "+----------+----------------+\n",
      "|       0.0|             0.0|\n",
      "|       0.0|             0.0|\n",
      "|       0.0|             0.0|\n",
      "|       0.0|             0.0|\n",
      "|       0.0|             0.0|\n",
      "|       0.0|             0.0|\n",
      "|       0.0|             0.0|\n",
      "|       0.0|             0.0|\n",
      "|       0.0|             0.0|\n",
      "|       0.0|             0.0|\n",
      "+----------+----------------+\n",
      "only showing top 10 rows\n",
      "\n",
      "Accuracy =  0.8130060373473113\n",
      "Test Error = 0.186994 \n"
     ]
    }
   ],
   "source": [
    "from pyspark.ml.classification import LogisticRegression\n",
    "\n",
    "# Create an initial model using the train set.\n",
    "lr = LogisticRegression(featuresCol = 'features', labelCol = 'RainTomorrow_num',    maxIter=10)\n",
    "lrModel = lr.fit(trainingData)\n",
    "\n",
    "prediction_lr = lrModel.transform(testData)\n",
    "prediction_lr.select(\"prediction\", \"RainTomorrow_num\").show(10)\n",
    "\n",
    "evaluator = MulticlassClassificationEvaluator(\\\n",
    "\n",
    "labelCol=\"RainTomorrow_num\", predictionCol=\"prediction\",\\\n",
    "\n",
    "metricName=\"accuracy\")\n",
    "\n",
    "accuracy3 = evaluator.evaluate(prediction_lr)\n",
    "\n",
    "print(\"Accuracy = \", accuracy3)\n",
    "print(\"Test Error = %g \" % (1.0 - accuracy3))"
   ]
  },
  {
   "cell_type": "markdown",
   "metadata": {},
   "source": [
    "### 4. Run and calculate the accuracy using GbTClassifier()"
   ]
  },
  {
   "cell_type": "code",
   "execution_count": 13,
   "metadata": {
    "scrolled": true
   },
   "outputs": [
    {
     "name": "stdout",
     "output_type": "stream",
     "text": [
      "+----------+----------------+\n",
      "|prediction|RainTomorrow_num|\n",
      "+----------+----------------+\n",
      "|       0.0|             0.0|\n",
      "|       0.0|             0.0|\n",
      "|       0.0|             0.0|\n",
      "|       0.0|             0.0|\n",
      "|       0.0|             0.0|\n",
      "|       1.0|             0.0|\n",
      "|       0.0|             0.0|\n",
      "|       0.0|             0.0|\n",
      "|       0.0|             0.0|\n",
      "|       0.0|             0.0|\n",
      "+----------+----------------+\n",
      "only showing top 10 rows\n",
      "\n",
      "Accuracy =  0.839167875696167\n",
      "Test Error = 0.160832 \n"
     ]
    }
   ],
   "source": [
    "from pyspark.ml.classification import GBTClassifier\n",
    "\n",
    "gbt = GBTClassifier(featuresCol = 'features', labelCol = 'RainTomorrow_num', maxIter=10)\n",
    "gbtModel = gbt.fit(trainingData)\n",
    "prediction_gbt = gbtModel.transform(testData)\n",
    "prediction_gbt.select(\"prediction\", \"RainTomorrow_num\").show(10)\n",
    "\n",
    "evaluator = MulticlassClassificationEvaluator(\\\n",
    "\n",
    "labelCol=\"RainTomorrow_num\", predictionCol=\"prediction\",\\\n",
    "\n",
    "metricName=\"accuracy\")\n",
    "\n",
    "accuracy4 = evaluator.evaluate(prediction_gbt)\n",
    "\n",
    "print(\"Accuracy = \", accuracy4)\n",
    "print(\"Test Error = %g \" % (1.0 - accuracy4))"
   ]
  },
  {
   "cell_type": "code",
   "execution_count": 14,
   "metadata": {},
   "outputs": [
    {
     "data": {
      "image/png": "[encoded data removed]",
      "text/plain": [
       "<Figure size 432x288 with 1 Axes>"
      ]
     },
     "metadata": {
      "needs_background": "light"
     },
     "output_type": "display_data"
    }
   ],
   "source": [
    "import numpy as np\n",
    "#!pip install matplotlib\n",
    "import matplotlib.pyplot as plt\n",
    "%matplotlib inline\n",
    "\n",
    "x = ['DTC', 'RFC', 'LR', 'GBTC']\n",
    "y = [accuracy1, accuracy2, accuracy3, accuracy4]\n",
    "\n",
    "\n",
    "bar_width = 0.7\n",
    "\n",
    "y_pos = np.arange(len(x))\n",
    "\n",
    "plt.bar(y_pos, y, bar_width, align='center')\n",
    "plt.xticks(y_pos, x)\n",
    "plt.xlabel('Classification Algorithms')\n",
    "plt.ylabel('Accuracy')\n",
    "plt.title('Comparison of the accuracy of different Classification Algorithms')\n",
    "plt.tight_layout()\n",
    "plt.show()\n"
   ]
  },
  {
   "cell_type": "markdown",
   "metadata": {},
   "source": [
    "BY the comparison we can find that the accuracy of the four algorithms are all around 80 percents."
   ]
  },
  {
   "cell_type": "markdown",
   "metadata": {},
   "source": [
    "### Step 09: Calculate the confusion matrix and find the precision, recall, and F1 score of each classification algorithm. Explain how the accuracy of the predication can be improved?"
   ]
  },
  {
   "cell_type": "markdown",
   "metadata": {},
   "source": [
    "### Decision Tree"
   ]
  },
  {
   "cell_type": "code",
   "execution_count": null,
   "metadata": {
    "scrolled": false
   },
   "outputs": [],
   "source": [
    "from pyspark.mllib.evaluation import MulticlassMetrics\n",
    "\n",
    "#!pip install pandas\n",
    "import pandas as pd\n",
    "import numpy as np\n",
    "\n",
    "predictionAndLabels = prediction_dt.rdd.map(lambda x: (x.prediction, \\\n",
    "                                       x.RainTomorrow_num))\n",
    "\n",
    "metrics = MulticlassMetrics(predictionAndLabels)\n",
    "\n",
    "temp_cm = metrics.confusionMatrix().toArray().tolist()\n",
    "\n",
    "data_cm = np.array([['','Predict_Positive','Predict_Negative'],\\\n",
    "                ['Actual_Positive',temp_cm[0][0],temp_cm[0][1]],\\\n",
    "                ['Actual_Negative',temp_cm[1][0],temp_cm[1][1]]])\n",
    "#The confusion matrix format is TP, FN\n",
    "#                               FP, TN\n",
    "\n",
    "dt_cm = pd.DataFrame(data=data_cm[1:,1:],\\\n",
    "                  index=data_cm[1:,0],\\\n",
    "                  columns=data_cm[0,1:])\n",
    "print(\"\\nConfusion Matrix:\")\n",
    "print(dt_cm)\n",
    "\n",
    "TP = temp_cm[0][0]\n",
    "FN = temp_cm[0][1]\n",
    "FP = temp_cm[1][0]\n",
    "TN = temp_cm[1][1]\n",
    "\n",
    "precisionDT = TP / (TP + FP)\n",
    "recallDT = TP / (TP + FN)\n",
    "f1DT = (2 * precisionDT * recallDT) / (precisionDT + recallDT)\n",
    "print('precision:', precisionDT)\n",
    "print('recall:', recallDT)\n",
    "print('f1:', f1DT)"
   ]
  },
  {
   "cell_type": "markdown",
   "metadata": {},
   "source": [
    "### Random Forest"
   ]
  },
  {
   "cell_type": "code",
   "execution_count": null,
   "metadata": {},
   "outputs": [],
   "source": [
    "predictionAndLabels = prediction_rf.rdd.map(lambda x: (x.prediction, \\\n",
    "                                       x.RainTomorrow_num))\n",
    "\n",
    "metrics = MulticlassMetrics(predictionAndLabels)\n",
    "\n",
    "temp_cm = metrics.confusionMatrix().toArray().tolist()\n",
    "\n",
    "data_cm = np.array([['','Predict_Positive','Predict_Negative'],\\\n",
    "                ['Actual_Positive',temp_cm[0][0],temp_cm[0][1]],\\\n",
    "                ['Actual_Negative',temp_cm[1][0],temp_cm[1][1]]])\n",
    "#The confusion matrix format is TP, FN\n",
    "#                               FP, TN\n",
    "\n",
    "dt_cm = pd.DataFrame(data=data_cm[1:,1:],\\\n",
    "                  index=data_cm[1:,0],\\\n",
    "                  columns=data_cm[0,1:])\n",
    "print(\"\\nConfusion Matrix:\")\n",
    "print(dt_cm)\n",
    "\n",
    "TP = temp_cm[0][0]\n",
    "FN = temp_cm[0][1]\n",
    "FP = temp_cm[1][0]\n",
    "TN = temp_cm[1][1]\n",
    "\n",
    "precisionRF = TP / (TP + FP)\n",
    "recallRF = TP / (TP + FN)\n",
    "f1RF = (2 * precisionRF * recallRF) / (precisionRF + recallRF)\n",
    "print('precision:', precisionRF)\n",
    "print('recall:', recallRF)\n",
    "print('f1:', f1RF)"
   ]
  },
  {
   "cell_type": "markdown",
   "metadata": {},
   "source": [
    "### Logistic Regression"
   ]
  },
  {
   "cell_type": "code",
   "execution_count": null,
   "metadata": {},
   "outputs": [],
   "source": [
    "predictionAndLabels = prediction_lr.rdd.map(lambda x: (x.prediction, \\\n",
    "                                       x.RainTomorrow_num))\n",
    "\n",
    "metrics = MulticlassMetrics(predictionAndLabels)\n",
    "\n",
    "temp_cm = metrics.confusionMatrix().toArray().tolist()\n",
    "\n",
    "data_cm = np.array([['','Predict_Positive','Predict_Negative'],\\\n",
    "                ['Actual_Positive',temp_cm[0][0],temp_cm[0][1]],\\\n",
    "                ['Actual_Negative',temp_cm[1][0],temp_cm[1][1]]])\n",
    "#The confusion matrix format is TP, FN\n",
    "#                               FP, TN\n",
    "\n",
    "dt_cm = pd.DataFrame(data=data_cm[1:,1:],\\\n",
    "                  index=data_cm[1:,0],\\\n",
    "                  columns=data_cm[0,1:])\n",
    "print(\"\\nConfusion Matrix:\")\n",
    "print(dt_cm)\n",
    "\n",
    "TP = temp_cm[0][0]\n",
    "FN = temp_cm[0][1]\n",
    "FP = temp_cm[1][0]\n",
    "TN = temp_cm[1][1]\n",
    "\n",
    "precisionLR = TP / (TP + FP)\n",
    "recallLR = TP / (TP + FN)\n",
    "f1LR = (2 * precisionLR * recallLR) / (precisionLR + recallLR)\n",
    "print('precision:', precisionLR)\n",
    "print('recall:', recallLR)\n",
    "print('f1:', f1LR)"
   ]
  },
  {
   "cell_type": "markdown",
   "metadata": {},
   "source": [
    "### GBT"
   ]
  },
  {
   "cell_type": "code",
   "execution_count": null,
   "metadata": {},
   "outputs": [],
   "source": [
    "predictionAndLabels = prediction_gbt.rdd.map(lambda x: (x.prediction, \\\n",
    "                                       x.RainTomorrow_num))\n",
    "\n",
    "metrics = MulticlassMetrics(predictionAndLabels)\n",
    "\n",
    "temp_cm = metrics.confusionMatrix().toArray().tolist()\n",
    "\n",
    "data_cm = np.array([['','Predict_Positive','Predict_Negative'],\\\n",
    "                ['Actual_Positive',temp_cm[0][0],temp_cm[0][1]],\\\n",
    "                ['Actual_Negative',temp_cm[1][0],temp_cm[1][1]]])\n",
    "#The confusion matrix format is TP, FN\n",
    "#                               FP, TN\n",
    "\n",
    "dt_cm = pd.DataFrame(data=data_cm[1:,1:],\\\n",
    "                  index=data_cm[1:,0],\\\n",
    "                  columns=data_cm[0,1:])\n",
    "print(\"\\nConfusion Matrix:\")\n",
    "print(dt_cm)\n",
    "\n",
    "TP = temp_cm[0][0]\n",
    "FN = temp_cm[0][1]\n",
    "FP = temp_cm[1][0]\n",
    "TN = temp_cm[1][1]\n",
    "\n",
    "precisionGBTC = TP / (TP + FP)\n",
    "recallGBTC = TP / (TP + FN)\n",
    "f1GBTC = (2 * precisionGBTC * recallGBTC) / (precisionGBTC + recallGBTC)\n",
    "print('precision:', precisionGBTC)\n",
    "print('recall:', recallGBTC)\n",
    "print('f1:', f1GBTC)"
   ]
  },
  {
   "cell_type": "markdown",
   "metadata": {},
   "source": [
    "## How the accuracy of the predication can be improved"
   ]
  },
  {
   "cell_type": "markdown",
   "metadata": {},
   "source": [
    "In order to improve accuracy of the predication, we should reduce the FP and FN in the confusion matrix, which can be done by filtering abnormal records in the dataset(because these abnormal records are in high posibility of leading matchine learning to do wrong training), for example, remove the records that contain NAs."
   ]
  }
 ],
 "metadata": {
  "kernelspec": {
   "display_name": "Python 3",
   "language": "python",
   "name": "python3"
  },
  "language_info": {
   "codemirror_mode": {
    "name": "ipython",
    "version": 3
   },
   "file_extension": ".py",
   "mimetype": "text/x-python",
   "name": "python",
   "nbconvert_exporter": "python",
   "pygments_lexer": "ipython3",
   "version": "3.6.8"
  }
 },
 "nbformat": 4,
 "nbformat_minor": 2
}
